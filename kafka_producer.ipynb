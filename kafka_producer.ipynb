{
 "cells": [
  {
   "cell_type": "markdown",
   "id": "990ad9a3-eefc-4f48-9fb1-cb57d4fa53de",
   "metadata": {},
   "source": [
    "# PRODUCER"
   ]
  },
  {
   "cell_type": "markdown",
   "id": "be9a9f0d-783f-4534-88f7-99694f4f9f7d",
   "metadata": {},
   "source": [
    "### STEP 1 = install kafka-python which is an open-source Python library that provides a way to interact with Apache Kafka. It is easy to use, supports kafka features and is lightweight."
   ]
  },
  {
   "cell_type": "code",
   "execution_count": null,
   "id": "9d94af06-0319-4ec5-882e-323c4cef83c9",
   "metadata": {},
   "outputs": [],
   "source": [
    "pip install kafka-python "
   ]
  },
  {
   "cell_type": "markdown",
   "id": "ee800d29-9399-4820-9c0d-cc7eabca91ac",
   "metadata": {},
   "source": [
    "###  STEP 2 = import the required libraries. Here the json-dumps = converts a Python object (like a dictionary or list) into a JSON-formatted string."
   ]
  },
  {
   "cell_type": "code",
   "execution_count": null,
   "id": "676d5019-6dd0-4c99-9ff2-f22f3e62a687",
   "metadata": {},
   "outputs": [],
   "source": [
    "import pandas as pd\n",
    "from kafka import KafkaProducer\n",
    "from time import sleep\n",
    "from json import dumps\n",
    "import json"
   ]
  },
  {
   "cell_type": "markdown",
   "id": "dde168fd-bdb9-4830-a800-0f4739c3d644",
   "metadata": {},
   "source": [
    "### STEP 3 = define producer\n",
    "### bootstrap_servers = Specifies the Kafka broker's IP address (this is my public IPV4 address on EC2 instamnce) and port (9092).\n",
    "### kafka understands only byte encoded messages. therefore, we need a serializer \n",
    "### lambda x: dumps(x).encode('utf-8') \n",
    "### x is the message you want to send.\n",
    "### dumps(x) converts the Python object (x) into a JSON-formatted string.\n",
    "### .encode('utf-8') converts the JSON string into bytes."
   ]
  },
  {
   "cell_type": "code",
   "execution_count": null,
   "id": "fdb0685a-ce95-4dfd-b228-ae12275b03a2",
   "metadata": {},
   "outputs": [],
   "source": [
    "producer = KafkaProducer(bootstrap_servers=[':9092'], #add your public ip\n",
    "                         value_serializer=lambda x: \n",
    "                         dumps(x).encode('utf-8'))\n"
   ]
  },
  {
   "cell_type": "markdown",
   "id": "23021cc9-eebe-4e37-8a6c-a4e2252ac635",
   "metadata": {},
   "source": [
    "### STEP 4 = send the message to the broker / kafka server to store the message under the specific topic "
   ]
  },
  {
   "cell_type": "code",
   "execution_count": null,
   "id": "8fc18d0f-8d48-46bf-b15b-c8c4dded3fcb",
   "metadata": {},
   "outputs": [],
   "source": [
    "#producer.send('demo_test2', value={'name':'abc'}) # demo or sample test "
   ]
  },
  {
   "cell_type": "code",
   "execution_count": null,
   "id": "ffb430f4-6a6b-4da0-9324-c0533c5036cc",
   "metadata": {},
   "outputs": [],
   "source": [
    "#df = pd.read_csv(\"data/indexProcessed.csv\")\n",
    "df = pd.read_csv(\"/****/taxi_tripdata.csv\", nrows=500) #add path "
   ]
  },
  {
   "cell_type": "code",
   "execution_count": null,
   "id": "2ae51dc3-d201-4837-b552-40c2bdd1f184",
   "metadata": {},
   "outputs": [],
   "source": [
    "df.head()\n"
   ]
  },
  {
   "cell_type": "code",
   "execution_count": null,
   "id": "99b3916c-75ad-4d20-af2b-7eb3ed6df065",
   "metadata": {},
   "outputs": [],
   "source": [
    "while True:\n",
    "    dict_stock = df.sample(1).to_dict(orient=\"records\")[0]\n",
    "    producer.send('demo_test2', value=dict_stock)\n",
    "    sleep(1)"
   ]
  },
  {
   "cell_type": "code",
   "execution_count": null,
   "id": "9acf9f8d-f0bf-4bfa-a6ac-5a6e7be913b9",
   "metadata": {},
   "outputs": [],
   "source": [
    "producer.flush() #clear data from kafka server"
   ]
  }
 ],
 "metadata": {
  "kernelspec": {
   "display_name": "Python [conda env:base] *",
   "language": "python",
   "name": "conda-base-py"
  },
  "language_info": {
   "codemirror_mode": {
    "name": "ipython",
    "version": 3
   },
   "file_extension": ".py",
   "mimetype": "text/x-python",
   "name": "python",
   "nbconvert_exporter": "python",
   "pygments_lexer": "ipython3",
   "version": "3.12.7"
  }
 },
 "nbformat": 4,
 "nbformat_minor": 5
}
